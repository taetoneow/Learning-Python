{
 "cells": [
  {
   "cell_type": "code",
   "execution_count": 1,
   "metadata": {},
   "outputs": [
    {
     "name": "stdout",
     "output_type": "stream",
     "text": [
      "How many digits of pi do you want to see? Enter a number below 16: 16\n",
      "3.141592653589793\n"
     ]
    }
   ],
   "source": [
    "#print pi to the nth digit based on user input\n",
    "import math\n",
    "\n",
    "def pi_digits():\n",
    "   \n",
    "    #set variable to user input\n",
    "    number_of_places = int(input('How many digits of pi do you want to see? Enter a number below 16: '))\n",
    "    \n",
    "    #limit the input between zero and 16 (the limit the Jupyter NOtebook can generate with the given constant math.pi)\n",
    "    if input != 0<=16:\n",
    "       \n",
    "    #convert the constant pi to a string and slice the string to the number of decimal places \n",
    "    #plus one for slicing exclusion and \n",
    "    #includes first units place as a decimal\n",
    "        yield str(math.pi)[:(1+number_of_places)]\n",
    "for number in pi_digits():\n",
    "    print(number) \n",
    "    #set function to main to run when called exclusively   \n",
    "    if __name__ == '__main__':\n",
    "        pi_digits()\n",
    "        \n",
    "        #doesn't quite satisfy the parameters for decimal places, \n",
    "        #rather includes all digits, why does it exclude the '.' in counting?"
   ]
  },
  {
   "cell_type": "code",
   "execution_count": 2,
   "metadata": {},
   "outputs": [
    {
     "name": "stdout",
     "output_type": "stream",
     "text": [
      "How many places of pi do you want to see? Enter a number below 100: 55\n",
      "PI(maxK=70 iterations, gc().prec=56, disp=1007 digits) =\n",
      "3.1415926535897932384626433832795028841971693993751058211\n"
     ]
    }
   ],
   "source": [
    "  #using Wikipedia dated 12/26/2019 Chudnovsky's algorithm python implementation formula with several additions\n",
    "#Added a number_of_places variable to provide user input in the precision argument \n",
    "#Added '+1' to the number_of_places variable in the PI dictionary value to account for the exclusion in slicing \n",
    "#and to correctly return places AFTER decimal point\n",
    "#Chudnovsky's formula generates a dynamic presentation of pi rather than a static constant provided by the Math library\n",
    "from decimal import Decimal as Dec, getcontext as gc\n",
    "number_of_places = int(input('How many places of pi do you want to see? Enter a number below 100: '))\n",
    "def PI(maxK: int = 70, prec: int = number_of_places+1, disp: int = 1007):  # Parameter defaults chosen to gain 1000+ digits within a few seconds\n",
    "    gc().prec = prec\n",
    "    K, M, L, X, S = 6, 1, 13591409, 1, 13591409\n",
    "    for k in range(1, maxK + 1):\n",
    "        M = (K**3 - 16*K) * M // k**3 \n",
    "        L += 545140134\n",
    "        X *= -262537412640768000\n",
    "        S += Dec(M * L) / X\n",
    "        K += 12\n",
    "    pi = 426880 * Dec(10005).sqrt() / S\n",
    "    pi = Dec(str(pi)[:disp])  # Drop few digits of precision for accuracy\n",
    "    print(\"PI(maxK={} iterations, gc().prec={}, disp={} digits) =\\n{}\".format(maxK, prec, disp, pi))\n",
    "    return pi\n",
    "\n",
    "Pi= PI()"
   ]
  },
  {
   "cell_type": "code",
   "execution_count": 3,
   "metadata": {},
   "outputs": [
    {
     "data": {
      "text/plain": [
       "'<generator object pi_digits at 0x05FFE930>'"
      ]
     },
     "execution_count": 3,
     "metadata": {},
     "output_type": "execute_result"
    }
   ],
   "source": [
    "str(pi_digits())"
   ]
  },
  {
   "cell_type": "code",
   "execution_count": 4,
   "metadata": {},
   "outputs": [
    {
     "name": "stdout",
     "output_type": "stream",
     "text": [
      "3.14159265358979\n"
     ]
    }
   ],
   "source": [
    "import math\n",
    "#tested attempt at slicing a string variable of pi\n",
    "print(str(math.pi)[:16])"
   ]
  },
  {
   "cell_type": "code",
   "execution_count": 5,
   "metadata": {},
   "outputs": [
    {
     "name": "stdout",
     "output_type": "stream",
     "text": [
      "3.141592653589793\n"
     ]
    }
   ],
   "source": [
    "import math\n",
    "#attemtpting to determine value of the constant pi\n",
    "print(math.pi)"
   ]
  },
  {
   "cell_type": "code",
   "execution_count": 6,
   "metadata": {},
   "outputs": [
    {
     "name": "stdout",
     "output_type": "stream",
     "text": [
      "How many decimals of pi do you want to see? Enter a number below 16: 4\n",
      "3.1415\n"
     ]
    }
   ],
   "source": [
    "#print pi to the nth digit based on user input\n",
    "import math\n",
    "\n",
    "def pi_digits():\n",
    "   \n",
    "    #set variable to user input\n",
    "    number_of_places = int(input('How many decimals of pi do you want to see? Enter a number below 16: '))\n",
    "    \n",
    "    #limit the input between zero and 16 (the limit the Jupyter NOtebook can generate with the given constant math.pi)\n",
    "    if input != 0<=16:\n",
    "       \n",
    "    #convert the constant pi to a string and slice the string to the number of decimal places \n",
    "    #plus one for slicing exclusion and \n",
    "    #includes first units place as a decimal\n",
    "        yield str(math.pi)[:(2+number_of_places)]\n",
    "for number in pi_digits():\n",
    "    print(number) \n",
    "    #set function to main to run when called exclusively   \n",
    "    if __name__ == '__main__':\n",
    "        pi_digits()\n",
    "        \n",
    "        #doesn't quite satisfy the parameters for decimal places, \n",
    "        #rather includes all digits, why does it exclude the '.' in counting?"
   ]
  },
  {
   "cell_type": "code",
   "execution_count": null,
   "metadata": {},
   "outputs": [],
   "source": []
  },
  {
   "cell_type": "code",
   "execution_count": null,
   "metadata": {},
   "outputs": [],
   "source": []
  }
 ],
 "metadata": {
  "kernelspec": {
   "display_name": "Python 3",
   "language": "python",
   "name": "python3"
  },
  "language_info": {
   "codemirror_mode": {
    "name": "ipython",
    "version": 3
   },
   "file_extension": ".py",
   "mimetype": "text/x-python",
   "name": "python",
   "nbconvert_exporter": "python",
   "pygments_lexer": "ipython3",
   "version": "3.7.4"
  }
 },
 "nbformat": 4,
 "nbformat_minor": 1
}
