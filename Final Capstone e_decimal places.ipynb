{
 "cells": [
  {
   "cell_type": "code",
   "execution_count": 4,
   "metadata": {},
   "outputs": [
    {
     "name": "stdout",
     "output_type": "stream",
     "text": [
      "How many digits of e do you want to see? Enter a number below 15: 15\n",
      "2.718281828459045\n"
     ]
    }
   ],
   "source": [
    "#print pi to the nth digit based on user input\n",
    "import math\n",
    "\n",
    "def e_digits():\n",
    "   \n",
    "    #set variable to user input\n",
    "    number_of_places = int(input('How many digits of e do you want to see? Enter a number below 15: '))\n",
    "    \n",
    "    #limit the input between zero and 16 (the limit the Jupyter NOtebook can generate with the given constant math.e)\n",
    "    if input != 0<=15:\n",
    "       \n",
    "    #convert the constant pi to a string and slice the string to the number of decimal places \n",
    "    #plus one for slicing exclusion and \n",
    "    #includes first units place as a decimal\n",
    "        yield str(math.e)[:(2+number_of_places)]\n",
    "for number in e_digits():\n",
    "    print(number) \n",
    "    #set function to main to run when called exclusively   \n",
    "    if __name__ == '__main__':\n",
    "        e_digits()\n",
    "        \n",
    "        #doesn't quite satisfy the parameters for decimal places, \n",
    "        #rather includes all digits, why does it exclude the '.' in counting?"
   ]
  },
  {
   "cell_type": "code",
   "execution_count": 2,
   "metadata": {},
   "outputs": [
    {
     "name": "stdout",
     "output_type": "stream",
     "text": [
      "2.718281828459045\n"
     ]
    }
   ],
   "source": [
    "# limits of e, 16 digits\n",
    "print(math.e)"
   ]
  },
  {
   "cell_type": "code",
   "execution_count": null,
   "metadata": {},
   "outputs": [],
   "source": []
  }
 ],
 "metadata": {
  "kernelspec": {
   "display_name": "Python 3",
   "language": "python",
   "name": "python3"
  },
  "language_info": {
   "codemirror_mode": {
    "name": "ipython",
    "version": 3
   },
   "file_extension": ".py",
   "mimetype": "text/x-python",
   "name": "python",
   "nbconvert_exporter": "python",
   "pygments_lexer": "ipython3",
   "version": "3.7.4"
  }
 },
 "nbformat": 4,
 "nbformat_minor": 2
}
