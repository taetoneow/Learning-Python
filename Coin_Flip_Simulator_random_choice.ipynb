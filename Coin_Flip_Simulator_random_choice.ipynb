{
 "cells": [
  {
   "cell_type": "code",
   "execution_count": 96,
   "metadata": {},
   "outputs": [
    {
     "name": "stdout",
     "output_type": "stream",
     "text": [
      "How many coin flips do you want? Enter an integer under 100: 6\n",
      "You have chosen: 6 flips\n",
      "Tails\n",
      "Tails\n",
      "Heads\n",
      "Heads\n",
      "Tails\n",
      "Heads\n",
      "Total flips is:  6\n",
      "Total Heads is:  3\n",
      "Total Tails is:  3\n",
      "Tie!\n"
     ]
    }
   ],
   "source": [
    "#https://stackoverflow.com/questions/33035508/heads-or-tails-coin-flip-program\n",
    "import random\n",
    "\n",
    "from collections import Counter\n",
    "\n",
    "# Define the number of flips from user input\n",
    "#def number_of_flips():\n",
    "    \n",
    "    #while True:\n",
    "        #try:\n",
    "flips = int(input('How many coin flips do you want? Enter an integer under 100: '))\n",
    "if 0 < flips <= 100:\n",
    "    print(f\"You have chosen: {flips} flips\")\n",
    "        #xcept ValueError: \n",
    "else:\n",
    "    print('Please choose an integer under 100.')\n",
    "        #except AssertionError as e:\n",
    "            #print(e)\n",
    "        #else:\n",
    "            #return flips\n",
    "            \n",
    "#def coin_flip():\n",
    "Heads = 0\n",
    "Tails = 0\n",
    "count = 0\n",
    "while count < flips:\n",
    "    coin = random.randint(0,1)\n",
    "    if coin == 0:\n",
    "            \n",
    "        Heads += 1\n",
    "        count += 1\n",
    "        print('Heads')\n",
    "    else: \n",
    "        Tails += 1\n",
    "        count += 1\n",
    "        print('Tails')\n",
    "        \n",
    "print('Total flips is: ', count)\n",
    "print('Total Heads is: ', Heads)            \n",
    "print('Total Tails is: ', Tails) \n",
    "if Heads > Tails:\n",
    "    print('Heads wins!')\n",
    "elif Heads < Tails:\n",
    "    print('Tails wins!')\n",
    "else:\n",
    "    print('Tie!')\n",
    "    \n",
    "if __name__ == \"main\":\n",
    "   \n",
    "    number_of_flips()\n",
    "    coin_flip() "
   ]
  },
  {
   "cell_type": "code",
   "execution_count": 82,
   "metadata": {},
   "outputs": [],
   "source": [
    "#Flip the coin\n"
   ]
  },
  {
   "cell_type": "code",
   "execution_count": 3,
   "metadata": {},
   "outputs": [],
   "source": [
    "\n",
    "    "
   ]
  },
  {
   "cell_type": "code",
   "execution_count": null,
   "metadata": {},
   "outputs": [],
   "source": []
  },
  {
   "cell_type": "code",
   "execution_count": null,
   "metadata": {},
   "outputs": [],
   "source": []
  }
 ],
 "metadata": {
  "kernelspec": {
   "display_name": "Python 3",
   "language": "python",
   "name": "python3"
  },
  "language_info": {
   "codemirror_mode": {
    "name": "ipython",
    "version": 3
   },
   "file_extension": ".py",
   "mimetype": "text/x-python",
   "name": "python",
   "nbconvert_exporter": "python",
   "pygments_lexer": "ipython3",
   "version": "3.7.4"
  }
 },
 "nbformat": 4,
 "nbformat_minor": 1
}
